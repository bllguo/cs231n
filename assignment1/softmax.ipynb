{
 "cells": [
  {
   "cell_type": "markdown",
   "metadata": {},
   "source": [
    "# Softmax exercise\n",
    "\n",
    "*Complete and hand in this completed worksheet (including its outputs and any supporting code outside of the worksheet) with your assignment submission. For more details see the [assignments page](http://vision.stanford.edu/teaching/cs231n/assignments.html) on the course website.*\n",
    "\n",
    "This exercise is analogous to the SVM exercise. You will:\n",
    "\n",
    "- implement a fully-vectorized **loss function** for the Softmax classifier\n",
    "- implement the fully-vectorized expression for its **analytic gradient**\n",
    "- **check your implementation** with numerical gradient\n",
    "- use a validation set to **tune the learning rate and regularization** strength\n",
    "- **optimize** the loss function with **SGD**\n",
    "- **visualize** the final learned weights\n"
   ]
  },
  {
   "cell_type": "code",
   "execution_count": 1,
   "metadata": {},
   "outputs": [],
   "source": [
    "import random\n",
    "import numpy as np\n",
    "from cs231n.data_utils import load_CIFAR10\n",
    "import matplotlib.pyplot as plt\n",
    "\n",
    "from __future__ import print_function\n",
    "\n",
    "%matplotlib inline\n",
    "plt.rcParams['figure.figsize'] = (10.0, 8.0) # set default size of plots\n",
    "plt.rcParams['image.interpolation'] = 'nearest'\n",
    "plt.rcParams['image.cmap'] = 'gray'\n",
    "\n",
    "# for auto-reloading extenrnal modules\n",
    "# see http://stackoverflow.com/questions/1907993/autoreload-of-modules-in-ipython\n",
    "%load_ext autoreload\n",
    "%autoreload 2"
   ]
  },
  {
   "cell_type": "code",
   "execution_count": 2,
   "metadata": {},
   "outputs": [
    {
     "name": "stdout",
     "output_type": "stream",
     "text": [
      "Train data shape:  (49000, 3073)\n",
      "Train labels shape:  (49000,)\n",
      "Validation data shape:  (1000, 3073)\n",
      "Validation labels shape:  (1000,)\n",
      "Test data shape:  (1000, 3073)\n",
      "Test labels shape:  (1000,)\n",
      "dev data shape:  (500, 3073)\n",
      "dev labels shape:  (500,)\n"
     ]
    }
   ],
   "source": [
    "def get_CIFAR10_data(num_training=49000, num_validation=1000, num_test=1000, num_dev=500):\n",
    "    \"\"\"\n",
    "    Load the CIFAR-10 dataset from disk and perform preprocessing to prepare\n",
    "    it for the linear classifier. These are the same steps as we used for the\n",
    "    SVM, but condensed to a single function.  \n",
    "    \"\"\"\n",
    "    # Load the raw CIFAR-10 data\n",
    "    cifar10_dir = 'cs231n/datasets/cifar-10-batches-py'\n",
    "    \n",
    "    X_train, y_train, X_test, y_test = load_CIFAR10(cifar10_dir)\n",
    "    \n",
    "    # subsample the data\n",
    "    mask = list(range(num_training, num_training + num_validation))\n",
    "    X_val = X_train[mask]\n",
    "    y_val = y_train[mask]\n",
    "    mask = list(range(num_training))\n",
    "    X_train = X_train[mask]\n",
    "    y_train = y_train[mask]\n",
    "    mask = list(range(num_test))\n",
    "    X_test = X_test[mask]\n",
    "    y_test = y_test[mask]\n",
    "    mask = np.random.choice(num_training, num_dev, replace=False)\n",
    "    X_dev = X_train[mask]\n",
    "    y_dev = y_train[mask]\n",
    "    \n",
    "    # Preprocessing: reshape the image data into rows\n",
    "    X_train = np.reshape(X_train, (X_train.shape[0], -1))\n",
    "    X_val = np.reshape(X_val, (X_val.shape[0], -1))\n",
    "    X_test = np.reshape(X_test, (X_test.shape[0], -1))\n",
    "    X_dev = np.reshape(X_dev, (X_dev.shape[0], -1))\n",
    "    \n",
    "    # Normalize the data: subtract the mean image\n",
    "    mean_image = np.mean(X_train, axis = 0)\n",
    "    X_train -= mean_image\n",
    "    X_val -= mean_image\n",
    "    X_test -= mean_image\n",
    "    X_dev -= mean_image\n",
    "    \n",
    "    # add bias dimension and transform into columns\n",
    "    X_train = np.hstack([X_train, np.ones((X_train.shape[0], 1))])\n",
    "    X_val = np.hstack([X_val, np.ones((X_val.shape[0], 1))])\n",
    "    X_test = np.hstack([X_test, np.ones((X_test.shape[0], 1))])\n",
    "    X_dev = np.hstack([X_dev, np.ones((X_dev.shape[0], 1))])\n",
    "    \n",
    "    return X_train, y_train, X_val, y_val, X_test, y_test, X_dev, y_dev\n",
    "\n",
    "\n",
    "# Cleaning up variables to prevent loading data multiple times (which may cause memory issue)\n",
    "try:\n",
    "   del X_train, y_train\n",
    "   del X_test, y_test\n",
    "   print('Clear previously loaded data.')\n",
    "except:\n",
    "   pass\n",
    "\n",
    "# Invoke the above function to get our data.\n",
    "X_train, y_train, X_val, y_val, X_test, y_test, X_dev, y_dev = get_CIFAR10_data()\n",
    "print('Train data shape: ', X_train.shape)\n",
    "print('Train labels shape: ', y_train.shape)\n",
    "print('Validation data shape: ', X_val.shape)\n",
    "print('Validation labels shape: ', y_val.shape)\n",
    "print('Test data shape: ', X_test.shape)\n",
    "print('Test labels shape: ', y_test.shape)\n",
    "print('dev data shape: ', X_dev.shape)\n",
    "print('dev labels shape: ', y_dev.shape)"
   ]
  },
  {
   "cell_type": "markdown",
   "metadata": {},
   "source": [
    "## Softmax Classifier\n",
    "\n",
    "Your code for this section will all be written inside **cs231n/classifiers/softmax.py**. \n"
   ]
  },
  {
   "cell_type": "code",
   "execution_count": 7,
   "metadata": {},
   "outputs": [
    {
     "data": {
      "text/plain": [
       "array([2.37741395, 2.34801876, 2.35386761, 2.39304463, 2.35933181,\n",
       "       2.36117248, 2.35124258, 2.38386322, 2.35613378, 2.38653479])"
      ]
     },
     "execution_count": 7,
     "metadata": {},
     "output_type": "execute_result"
    }
   ],
   "source": [
    "loss"
   ]
  },
  {
   "cell_type": "code",
   "execution_count": 8,
   "metadata": {},
   "outputs": [
    {
     "name": "stdout",
     "output_type": "stream",
     "text": [
      "loss: 2.357421\n",
      "sanity check: 2.302585\n"
     ]
    }
   ],
   "source": [
    "# First implement the naive softmax loss function with nested loops.\n",
    "# Open the file cs231n/classifiers/softmax.py and implement the\n",
    "# softmax_loss_naive function.\n",
    "\n",
    "from cs231n.classifiers.softmax import softmax_loss_naive\n",
    "import time\n",
    "\n",
    "# Generate a random softmax weight matrix and use it to compute the loss.\n",
    "W = np.random.randn(3073, 10) * 0.0001\n",
    "loss, grad = softmax_loss_naive(W, X_dev, y_dev, 0.0)\n",
    "\n",
    "# As a rough sanity check, our loss should be something close to -log(0.1).\n",
    "print('loss: %f' % loss)\n",
    "print('sanity check: %f' % (-np.log(0.1)))"
   ]
  },
  {
   "cell_type": "markdown",
   "metadata": {},
   "source": [
    "## Inline Question 1:\n",
    "Why do we expect our loss to be close to -log(0.1)? Explain briefly.**\n",
    "\n",
    "**Your answer:** *Fill this in*\n"
   ]
  },
  {
   "cell_type": "code",
   "execution_count": 9,
   "metadata": {},
   "outputs": [
    {
     "name": "stdout",
     "output_type": "stream",
     "text": [
      "numerical: 1.670677 analytic: 1.670677, relative error: 3.980879e-08\n",
      "numerical: 3.107106 analytic: 3.107106, relative error: 5.904318e-09\n",
      "numerical: 0.862879 analytic: 0.862879, relative error: 6.053812e-08\n",
      "numerical: 0.617829 analytic: 0.617829, relative error: 3.294499e-08\n",
      "numerical: -0.162353 analytic: -0.162353, relative error: 1.100372e-07\n",
      "numerical: 1.016685 analytic: 1.016685, relative error: 2.621842e-08\n",
      "numerical: 2.492703 analytic: 2.492703, relative error: 1.563829e-08\n",
      "numerical: -4.991760 analytic: -4.991760, relative error: 3.595557e-09\n",
      "numerical: 1.775106 analytic: 1.775106, relative error: 3.706561e-08\n",
      "numerical: 0.255255 analytic: 0.255255, relative error: 2.448130e-08\n",
      "numerical: -0.677829 analytic: -0.677829, relative error: 2.848476e-08\n",
      "numerical: 1.837153 analytic: 1.837153, relative error: 1.016511e-09\n",
      "numerical: 1.753365 analytic: 1.753365, relative error: 5.196685e-09\n",
      "numerical: 1.209926 analytic: 1.209926, relative error: 4.056622e-08\n",
      "numerical: -1.703579 analytic: -1.703579, relative error: 1.628811e-08\n",
      "numerical: 1.970850 analytic: 1.970850, relative error: 1.161303e-08\n",
      "numerical: -0.870636 analytic: -0.870636, relative error: 3.002641e-08\n",
      "numerical: 0.918261 analytic: 0.918261, relative error: 2.044943e-08\n",
      "numerical: -1.432814 analytic: -1.432814, relative error: 3.877261e-09\n",
      "numerical: 1.854540 analytic: 1.854540, relative error: 2.010592e-08\n"
     ]
    }
   ],
   "source": [
    "# Complete the implementation of softmax_loss_naive and implement a (naive)\n",
    "# version of the gradient that uses nested loops.\n",
    "loss, grad = softmax_loss_naive(W, X_dev, y_dev, 0.0)\n",
    "\n",
    "# As we did for the SVM, use numeric gradient checking as a debugging tool.\n",
    "# The numeric gradient should be close to the analytic gradient.\n",
    "from cs231n.gradient_check import grad_check_sparse\n",
    "f = lambda w: softmax_loss_naive(w, X_dev, y_dev, 0.0)[0]\n",
    "grad_numerical = grad_check_sparse(f, W, grad, 10)\n",
    "\n",
    "# similar to SVM case, do another gradient check with regularization\n",
    "loss, grad = softmax_loss_naive(W, X_dev, y_dev, 5e1)\n",
    "f = lambda w: softmax_loss_naive(w, X_dev, y_dev, 5e1)[0]\n",
    "grad_numerical = grad_check_sparse(f, W, grad, 10)"
   ]
  },
  {
   "cell_type": "code",
   "execution_count": 70,
   "metadata": {},
   "outputs": [
    {
     "name": "stdout",
     "output_type": "stream",
     "text": [
      "naive loss: 2.357421e+00 computed in 0.238126s\n",
      "vectorized loss: 2.357421e+00 computed in 0.004992s\n",
      "Loss difference: 0.000000\n",
      "Gradient difference: 0.000000\n"
     ]
    }
   ],
   "source": [
    "# Now that we have a naive implementation of the softmax loss function and its gradient,\n",
    "# implement a vectorized version in softmax_loss_vectorized.\n",
    "# The two versions should compute the same results, but the vectorized version should be\n",
    "# much faster.\n",
    "tic = time.time()\n",
    "loss_naive, grad_naive = softmax_loss_naive(W, X_dev, y_dev, 0.000005)\n",
    "toc = time.time()\n",
    "print('naive loss: %e computed in %fs' % (loss_naive, toc - tic))\n",
    "\n",
    "from cs231n.classifiers.softmax import softmax_loss_vectorized\n",
    "tic = time.time()\n",
    "loss_vectorized, grad_vectorized = softmax_loss_vectorized(W, X_dev, y_dev, 0.000005)\n",
    "toc = time.time()\n",
    "print('vectorized loss: %e computed in %fs' % (loss_vectorized, toc - tic))\n",
    "\n",
    "# As we did for the SVM, we use the Frobenius norm to compare the two versions\n",
    "# of the gradient.\n",
    "grad_difference = np.linalg.norm(grad_naive - grad_vectorized, ord='fro')\n",
    "print('Loss difference: %f' % np.abs(loss_naive - loss_vectorized))\n",
    "print('Gradient difference: %f' % grad_difference)"
   ]
  },
  {
   "cell_type": "code",
   "execution_count": 74,
   "metadata": {},
   "outputs": [
    {
     "name": "stdout",
     "output_type": "stream",
     "text": [
      "iteration 0 / 500: loss 5.910724\n",
      "iteration 100 / 500: loss 4.181595\n",
      "iteration 200 / 500: loss 3.734169\n",
      "iteration 300 / 500: loss 3.498546\n",
      "iteration 400 / 500: loss 3.372826\n",
      "iteration 0 / 500: loss 6.353160\n",
      "iteration 100 / 500: loss 4.199834\n",
      "iteration 200 / 500: loss 3.037015\n",
      "iteration 300 / 500: loss 3.608911\n",
      "iteration 400 / 500: loss 3.002842\n",
      "iteration 0 / 500: loss 5.364734\n",
      "iteration 100 / 500: loss 4.227436\n",
      "iteration 200 / 500: loss 3.571434\n",
      "iteration 300 / 500: loss 3.423583\n",
      "iteration 400 / 500: loss 3.283322\n",
      "iteration 0 / 500: loss 5.172079\n",
      "iteration 100 / 500: loss 3.992953\n",
      "iteration 200 / 500: loss 3.868817\n",
      "iteration 300 / 500: loss 3.696231\n",
      "iteration 400 / 500: loss 3.660884\n",
      "iteration 0 / 500: loss 8.187427\n",
      "iteration 100 / 500: loss 7.246986\n",
      "iteration 200 / 500: loss 6.754480\n",
      "iteration 300 / 500: loss 6.566438\n",
      "iteration 400 / 500: loss 6.605058\n",
      "iteration 0 / 500: loss 5.685614\n",
      "iteration 100 / 500: loss 2.459356\n",
      "iteration 200 / 500: loss 2.185692\n",
      "iteration 300 / 500: loss 2.118686\n",
      "iteration 400 / 500: loss 2.157991\n",
      "iteration 0 / 500: loss 5.945387\n",
      "iteration 100 / 500: loss 2.718038\n",
      "iteration 200 / 500: loss 2.318493\n",
      "iteration 300 / 500: loss 2.004334\n",
      "iteration 400 / 500: loss 2.151930\n",
      "iteration 0 / 500: loss 6.154281\n",
      "iteration 100 / 500: loss 2.430266\n",
      "iteration 200 / 500: loss 2.409056\n",
      "iteration 300 / 500: loss 2.182590\n",
      "iteration 400 / 500: loss 2.265648\n",
      "iteration 0 / 500: loss 5.829303\n",
      "iteration 100 / 500: loss 2.954148\n",
      "iteration 200 / 500: loss 2.759174\n",
      "iteration 300 / 500: loss 2.385285\n",
      "iteration 400 / 500: loss 2.477204\n",
      "iteration 0 / 500: loss 8.215876\n",
      "iteration 100 / 500: loss 5.286919\n",
      "iteration 200 / 500: loss 5.075788\n",
      "iteration 300 / 500: loss 4.450000\n",
      "iteration 400 / 500: loss 4.310907\n",
      "iteration 0 / 500: loss 4.917373\n",
      "iteration 100 / 500: loss 5.910001\n",
      "iteration 200 / 500: loss 5.211218\n",
      "iteration 300 / 500: loss 7.306832\n",
      "iteration 400 / 500: loss 10.410138\n",
      "iteration 0 / 500: loss 5.044869\n",
      "iteration 100 / 500: loss 9.212500\n",
      "iteration 200 / 500: loss 3.224337\n",
      "iteration 300 / 500: loss 7.103614\n",
      "iteration 400 / 500: loss 4.082281\n",
      "iteration 0 / 500: loss 5.526422\n",
      "iteration 100 / 500: loss 8.212708\n",
      "iteration 200 / 500: loss 6.285049\n",
      "iteration 300 / 500: loss 5.963686\n",
      "iteration 400 / 500: loss 7.139393\n",
      "iteration 0 / 500: loss 6.575977\n",
      "iteration 100 / 500: loss 6.617907\n",
      "iteration 200 / 500: loss 7.623098\n",
      "iteration 300 / 500: loss 9.199378\n",
      "iteration 400 / 500: loss 9.421985\n",
      "iteration 0 / 500: loss 8.319541\n",
      "iteration 100 / 500: loss 8.581019\n",
      "iteration 200 / 500: loss 7.040946\n",
      "iteration 300 / 500: loss 10.078346\n",
      "iteration 400 / 500: loss 8.617234\n",
      "iteration 0 / 500: loss 5.072041\n"
     ]
    },
    {
     "name": "stderr",
     "output_type": "stream",
     "text": [
      "C:\\Users\\bllgu\\Documents\\repos\\cs231n\\assignment1\\cs231n\\classifiers\\softmax.py:68: RuntimeWarning: divide by zero encountered in log\n",
      "  loss = np.sum(-correct_class_scores + np.log(np.sum(scores, axis=1)))\n"
     ]
    },
    {
     "name": "stdout",
     "output_type": "stream",
     "text": [
      "iteration 100 / 500: loss inf\n",
      "iteration 200 / 500: loss inf\n",
      "iteration 300 / 500: loss inf\n",
      "iteration 400 / 500: loss inf\n",
      "iteration 0 / 500: loss 4.805316\n",
      "iteration 100 / 500: loss 90.535516\n",
      "iteration 200 / 500: loss inf\n",
      "iteration 300 / 500: loss inf\n",
      "iteration 400 / 500: loss 85.755217\n",
      "iteration 0 / 500: loss 4.766557\n",
      "iteration 100 / 500: loss inf\n",
      "iteration 200 / 500: loss inf\n",
      "iteration 300 / 500: loss 89.173695\n",
      "iteration 400 / 500: loss inf\n",
      "iteration 0 / 500: loss 6.071915\n",
      "iteration 100 / 500: loss inf\n",
      "iteration 200 / 500: loss inf\n",
      "iteration 300 / 500: loss inf\n",
      "iteration 400 / 500: loss 105.473985\n",
      "iteration 0 / 500: loss 8.802273\n",
      "iteration 100 / 500: loss inf\n",
      "iteration 200 / 500: loss inf\n",
      "iteration 300 / 500: loss inf\n",
      "iteration 400 / 500: loss inf\n",
      "iteration 0 / 500: loss 5.332275\n",
      "iteration 100 / 500: loss inf\n",
      "iteration 200 / 500: loss inf\n",
      "iteration 300 / 500: loss inf\n",
      "iteration 400 / 500: loss inf\n",
      "iteration 0 / 500: loss 5.828082\n",
      "iteration 100 / 500: loss inf\n",
      "iteration 200 / 500: loss inf\n",
      "iteration 300 / 500: loss inf\n",
      "iteration 400 / 500: loss inf\n",
      "iteration 0 / 500: loss 4.741936\n",
      "iteration 100 / 500: loss inf\n",
      "iteration 200 / 500: loss inf\n",
      "iteration 300 / 500: loss inf\n",
      "iteration 400 / 500: loss inf\n",
      "iteration 0 / 500: loss 4.910672\n",
      "iteration 100 / 500: loss inf\n",
      "iteration 200 / 500: loss inf\n",
      "iteration 300 / 500: loss inf\n",
      "iteration 400 / 500: loss inf\n",
      "iteration 0 / 500: loss 8.999133\n",
      "iteration 100 / 500: loss inf\n",
      "iteration 200 / 500: loss inf\n",
      "iteration 300 / 500: loss inf\n",
      "iteration 400 / 500: loss inf\n",
      "iteration 0 / 500: loss 5.152490\n",
      "iteration 100 / 500: loss inf\n",
      "iteration 200 / 500: loss inf\n",
      "iteration 300 / 500: loss inf\n",
      "iteration 400 / 500: loss inf\n",
      "iteration 0 / 500: loss 6.762886\n",
      "iteration 100 / 500: loss inf\n",
      "iteration 200 / 500: loss inf\n",
      "iteration 300 / 500: loss inf\n",
      "iteration 400 / 500: loss inf\n",
      "iteration 0 / 500: loss 5.697474\n",
      "iteration 100 / 500: loss inf\n",
      "iteration 200 / 500: loss inf\n",
      "iteration 300 / 500: loss inf\n",
      "iteration 400 / 500: loss inf\n",
      "iteration 0 / 500: loss 5.624390\n",
      "iteration 100 / 500: loss inf\n",
      "iteration 200 / 500: loss inf\n",
      "iteration 300 / 500: loss inf\n",
      "iteration 400 / 500: loss inf\n",
      "iteration 0 / 500: loss 8.678222\n",
      "iteration 100 / 500: loss inf\n"
     ]
    },
    {
     "name": "stderr",
     "output_type": "stream",
     "text": [
      "C:\\Users\\bllgu\\Documents\\repos\\cs231n\\assignment1\\cs231n\\classifiers\\softmax.py:79: RuntimeWarning: overflow encountered in double_scalars\n",
      "  loss += reg * np.sum(W * W)\n",
      "C:\\Users\\bllgu\\Anaconda3\\lib\\site-packages\\numpy\\core\\fromnumeric.py:83: RuntimeWarning: overflow encountered in reduce\n",
      "  return ufunc.reduce(obj, axis, dtype, out, **passkwargs)\n",
      "C:\\Users\\bllgu\\Documents\\repos\\cs231n\\assignment1\\cs231n\\classifiers\\softmax.py:79: RuntimeWarning: overflow encountered in multiply\n",
      "  loss += reg * np.sum(W * W)\n"
     ]
    },
    {
     "name": "stdout",
     "output_type": "stream",
     "text": [
      "iteration 200 / 500: loss inf\n"
     ]
    },
    {
     "name": "stderr",
     "output_type": "stream",
     "text": [
      "C:\\Users\\bllgu\\Documents\\repos\\cs231n\\assignment1\\cs231n\\classifiers\\softmax.py:66: RuntimeWarning: overflow encountered in subtract\n",
      "  scores -= np.max(scores)\n",
      "C:\\Users\\bllgu\\Documents\\repos\\cs231n\\assignment1\\cs231n\\classifiers\\softmax.py:66: RuntimeWarning: invalid value encountered in subtract\n",
      "  scores -= np.max(scores)\n",
      "C:\\Users\\bllgu\\Anaconda3\\lib\\site-packages\\numpy\\core\\fromnumeric.py:83: RuntimeWarning: invalid value encountered in reduce\n",
      "  return ufunc.reduce(obj, axis, dtype, out, **passkwargs)\n"
     ]
    },
    {
     "name": "stdout",
     "output_type": "stream",
     "text": [
      "iteration 300 / 500: loss nan\n",
      "iteration 400 / 500: loss nan\n",
      "lr 1.000000e-07 reg 1.000000e-02 train accuracy: 0.190469 val accuracy: 0.182000\n",
      "lr 1.000000e-07 reg 1.000000e-01 train accuracy: 0.204265 val accuracy: 0.218000\n",
      "lr 1.000000e-07 reg 1.000000e+00 train accuracy: 0.194612 val accuracy: 0.208000\n",
      "lr 1.000000e-07 reg 1.000000e+01 train accuracy: 0.204102 val accuracy: 0.202000\n",
      "lr 1.000000e-07 reg 1.000000e+02 train accuracy: 0.200796 val accuracy: 0.193000\n",
      "lr 1.584893e-06 reg 1.000000e-02 train accuracy: 0.323102 val accuracy: 0.313000\n",
      "lr 1.584893e-06 reg 1.000000e-01 train accuracy: 0.320490 val accuracy: 0.308000\n",
      "lr 1.584893e-06 reg 1.000000e+00 train accuracy: 0.316980 val accuracy: 0.304000\n",
      "lr 1.584893e-06 reg 1.000000e+01 train accuracy: 0.318163 val accuracy: 0.303000\n",
      "lr 1.584893e-06 reg 1.000000e+02 train accuracy: 0.329592 val accuracy: 0.327000\n",
      "lr 2.511886e-05 reg 1.000000e-02 train accuracy: 0.278755 val accuracy: 0.272000\n",
      "lr 2.511886e-05 reg 1.000000e-01 train accuracy: 0.337796 val accuracy: 0.339000\n",
      "lr 2.511886e-05 reg 1.000000e+00 train accuracy: 0.301776 val accuracy: 0.327000\n",
      "lr 2.511886e-05 reg 1.000000e+01 train accuracy: 0.286347 val accuracy: 0.303000\n",
      "lr 2.511886e-05 reg 1.000000e+02 train accuracy: 0.245837 val accuracy: 0.278000\n",
      "lr 3.981072e-04 reg 1.000000e-02 train accuracy: 0.290449 val accuracy: 0.280000\n",
      "lr 3.981072e-04 reg 1.000000e-01 train accuracy: 0.282878 val accuracy: 0.290000\n",
      "lr 3.981072e-04 reg 1.000000e+00 train accuracy: 0.329224 val accuracy: 0.316000\n",
      "lr 3.981072e-04 reg 1.000000e+01 train accuracy: 0.264673 val accuracy: 0.266000\n",
      "lr 3.981072e-04 reg 1.000000e+02 train accuracy: 0.207388 val accuracy: 0.212000\n",
      "lr 6.309573e-03 reg 1.000000e-02 train accuracy: 0.276184 val accuracy: 0.265000\n",
      "lr 6.309573e-03 reg 1.000000e-01 train accuracy: 0.293122 val accuracy: 0.307000\n",
      "lr 6.309573e-03 reg 1.000000e+00 train accuracy: 0.207082 val accuracy: 0.191000\n",
      "lr 6.309573e-03 reg 1.000000e+01 train accuracy: 0.189061 val accuracy: 0.212000\n",
      "lr 6.309573e-03 reg 1.000000e+02 train accuracy: 0.068224 val accuracy: 0.059000\n",
      "lr 1.000000e-01 reg 1.000000e-02 train accuracy: 0.259306 val accuracy: 0.260000\n",
      "lr 1.000000e-01 reg 1.000000e-01 train accuracy: 0.225633 val accuracy: 0.219000\n",
      "lr 1.000000e-01 reg 1.000000e+00 train accuracy: 0.165510 val accuracy: 0.168000\n",
      "lr 1.000000e-01 reg 1.000000e+01 train accuracy: 0.107633 val accuracy: 0.107000\n",
      "lr 1.000000e-01 reg 1.000000e+02 train accuracy: 0.100265 val accuracy: 0.087000\n",
      "best validation accuracy achieved during cross-validation: 0.339000\n"
     ]
    }
   ],
   "source": [
    "# Use the validation set to tune hyperparameters (regularization strength and\n",
    "# learning rate). You should experiment with different ranges for the learning\n",
    "# rates and regularization strengths; if you are careful you should be able to\n",
    "# get a classification accuracy of over 0.35 on the validation set.\n",
    "from cs231n.classifiers import Softmax\n",
    "results = {}\n",
    "best_val = -1\n",
    "best_softmax = None\n",
    "learning_rates = np.logspace(-7, -1, 6)\n",
    "regularization_strengths = np.logspace(-2, 2, 5)\n",
    "\n",
    "for alpha in learning_rates:\n",
    "    for lmbda in regularization_strengths:\n",
    "        sm = Softmax()\n",
    "        sm.train(X_train, y_train, learning_rate=alpha, reg=lmbda, num_iters=500, verbose=True)\n",
    "        y_train_pred = np.mean(y_train == sm.predict(X_train))\n",
    "        y_val_pred = np.mean(y_val == sm.predict(X_val))\n",
    "        if best_val < y_val_pred:\n",
    "            best_val = y_val_pred\n",
    "            best_softmax = sm\n",
    "        results[(alpha, lmbda)] = (y_train_pred, y_val_pred)\n",
    "    \n",
    "# Print out results.\n",
    "for lr, reg in sorted(results):\n",
    "    train_accuracy, val_accuracy = results[(lr, reg)]\n",
    "    print('lr %e reg %e train accuracy: %f val accuracy: %f' % (\n",
    "                lr, reg, train_accuracy, val_accuracy))\n",
    "    \n",
    "print('best validation accuracy achieved during cross-validation: %f' % best_val)"
   ]
  },
  {
   "cell_type": "code",
   "execution_count": 75,
   "metadata": {},
   "outputs": [
    {
     "name": "stdout",
     "output_type": "stream",
     "text": [
      "softmax on raw pixels final test set accuracy: 0.315000\n"
     ]
    }
   ],
   "source": [
    "# evaluate on test set\n",
    "# Evaluate the best softmax on test set\n",
    "y_test_pred = best_softmax.predict(X_test)\n",
    "test_accuracy = np.mean(y_test == y_test_pred)\n",
    "print('softmax on raw pixels final test set accuracy: %f' % (test_accuracy, ))"
   ]
  },
  {
   "cell_type": "markdown",
   "metadata": {},
   "source": [
    "**Inline Question** - *True or False*\n",
    "\n",
    "It's possible to add a new datapoint to a training set that would leave the SVM loss unchanged, but this is not the case with the Softmax classifier loss.\n",
    "\n",
    "*Your answer*:\n",
    "\n",
    "*Your explanation*:"
   ]
  },
  {
   "cell_type": "code",
   "execution_count": 76,
   "metadata": {},
   "outputs": [
    {
     "data": {
      "image/png": "[encoded data removed]",
      "text/plain": [
       "<Figure size 720x576 with 10 Axes>"
      ]
     },
     "metadata": {},
     "output_type": "display_data"
    }
   ],
   "source": [
    "# Visualize the learned weights for each class\n",
    "w = best_softmax.W[:-1,:] # strip out the bias\n",
    "w = w.reshape(32, 32, 3, 10)\n",
    "\n",
    "w_min, w_max = np.min(w), np.max(w)\n",
    "\n",
    "classes = ['plane', 'car', 'bird', 'cat', 'deer', 'dog', 'frog', 'horse', 'ship', 'truck']\n",
    "for i in range(10):\n",
    "    plt.subplot(2, 5, i + 1)\n",
    "    \n",
    "    # Rescale the weights to be between 0 and 255\n",
    "    wimg = 255.0 * (w[:, :, :, i].squeeze() - w_min) / (w_max - w_min)\n",
    "    plt.imshow(wimg.astype('uint8'))\n",
    "    plt.axis('off')\n",
    "    plt.title(classes[i])"
   ]
  }
 ],
 "metadata": {
  "kernelspec": {
   "display_name": "Python 3",
   "language": "python",
   "name": "python3"
  },
  "language_info": {
   "codemirror_mode": {
    "name": "ipython",
    "version": 3
   },
   "file_extension": ".py",
   "mimetype": "text/x-python",
   "name": "python",
   "nbconvert_exporter": "python",
   "pygments_lexer": "ipython3",
   "version": "3.6.2"
  }
 },
 "nbformat": 4,
 "nbformat_minor": 2
}
